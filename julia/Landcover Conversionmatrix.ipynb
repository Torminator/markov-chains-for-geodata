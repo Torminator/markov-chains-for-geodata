{
 "cells": [
  {
   "cell_type": "markdown",
   "metadata": {},
   "source": [
    "# Landcover conversion matrix\n",
    "\n",
    "As part of my Markov chains project I searched for an interesting dataset to use it. This notebook is written in Julia. In particular, because Python was way too slow to calculate the count over 129600 x 64800 images. I also played with Spark on Azure around but Julia was just quicker to developed. \n",
    "The dataset is the annual landcover data from 1992 to 2015 by ESA CCI-LC project. The idea is to calculate the probabilites from one landcover type to another."
   ]
  },
  {
   "cell_type": "code",
   "execution_count": 37,
   "metadata": {},
   "outputs": [],
   "source": [
    "using ArchGDAL\n",
    "using CSV, DataFrames"
   ]
  },
  {
   "cell_type": "markdown",
   "metadata": {},
   "source": [
    "The function **getlandcoverchange()** reads the file with ArchGDAL. Then it reads two succesive raster bands which represents the landcover for a certain year. We pair the landcover types of the same pixel (same longitude and latitude) and uses it as key. Then we increased the key by one. As two uncompressed maps are too big to fit in memory I had to use the windowing method of ArchGDAL. The result is a dictionary with the count of all the possible pairs of landcover type over the data time period."
   ]
  },
  {
   "cell_type": "code",
   "execution_count": 35,
   "metadata": {
    "scrolled": true
   },
   "outputs": [
    {
     "data": {
      "text/plain": [
       "getlandcoverchange (generic function with 1 method)"
      ]
     },
     "execution_count": 35,
     "metadata": {},
     "output_type": "execute_result"
    }
   ],
   "source": [
    "function getlandcoverchange()\n",
    "    landcover = [0, 10, 11, 12, 20, 30, 40, 50, 60, 61, 62, 70, \n",
    "    71, 72, 80, 81, 82, 90, 100, 110, 120, 121, 122, 130, \n",
    "    140, 150, 151, 152, 153, 160, 170, 180, 190, 200, 201, 202, \n",
    "    210, 220];\n",
    "    landcoverchangedict = Dict((i,j) => 0 for i in landcover for j in landcover);\n",
    "\n",
    "    ArchGDAL.registerdrivers() do\n",
    "        ArchGDAL.read(\"/run/media/torben/Data/ESACCI-LC-L4-LCCS-Map-300m-P1Y-1992_2015-v2.0.7.tif\") do dataset\n",
    "            println(dataset)\n",
    "            println(\"Computation started\")\n",
    "            for i in 1:ArchGDAL.nraster(dataset)-1          \n",
    "                band_1 = ArchGDAL.getband(dataset, i);\n",
    "                band_2 = ArchGDAL.getband(dataset, i+1);\n",
    "                @time for (cols,rows) in ArchGDAL.windows(band_1)\n",
    "                    zipped_bands = zip(ArchGDAL.read(band_1, rows, cols), ArchGDAL.read(band_2, rows, cols));\n",
    "                    map(zipped_cell -> landcoverchangedict[zipped_cell] += 1, zipped_bands)\n",
    "                                \n",
    "                end\n",
    "                println(i, \"/\", ArchGDAL.nraster(dataset)-1, \"completed\")\n",
    "            end\n",
    "        end\n",
    "    end\n",
    "    return landcoverchangedict;\n",
    "end"
   ]
  },
  {
   "cell_type": "markdown",
   "metadata": {},
   "source": [
    "I created two useless functions write the resulting dictionary into a text file and read it. I should replace it with functions of the CSV.jl module. The function **getlandcoverchange()** took over 4 hours because each iteration took ~10-11 minutes and allocated 78 GB memory according to @time."
   ]
  },
  {
   "cell_type": "code",
   "execution_count": 69,
   "metadata": {},
   "outputs": [
    {
     "data": {
      "text/plain": [
       "write_result (generic function with 1 method)"
      ]
     },
     "execution_count": 69,
     "metadata": {},
     "output_type": "execute_result"
    }
   ],
   "source": [
    "function write_result(res)\n",
    "    open(\"res.txt\", \"w\") do file\n",
    "        write(file, \"lc_type, count\\n\")\n",
    "        for (k, v) in res\n",
    "            write(file, \"$k,$v\\n\")\n",
    "        end\n",
    "    end\n",
    "end"
   ]
  },
  {
   "cell_type": "code",
   "execution_count": 68,
   "metadata": {},
   "outputs": [
    {
     "data": {
      "text/plain": [
       "parse_countfile (generic function with 1 method)"
      ]
     },
     "execution_count": 68,
     "metadata": {},
     "output_type": "execute_result"
    }
   ],
   "source": [
    "function parse_countfile(data)\n",
    "    splitted = split(data, \"\\n\")\n",
    "    res = Dict{Tuple{Int, Int}, Int}()\n",
    "    for line in splitted[2:end-1]\n",
    "        tuple = split(line, \",\")\n",
    "        res[(parse(Int, tuple[1][2:end]), parse(Int, tuple[2][1:end-1]))] = parse(Int, tuple[3])\n",
    "    end\n",
    "    return res\n",
    "end"
   ]
  },
  {
   "cell_type": "markdown",
   "metadata": {},
   "source": [
    "If we had run the function and saved the dicitonary with the function write_result we will open the file. Otherwise we run **getlandcoverchange()**."
   ]
  },
  {
   "cell_type": "code",
   "execution_count": 39,
   "metadata": {
    "scrolled": true
   },
   "outputs": [],
   "source": [
    "try\n",
    "    data = open(\"res.txt\") do file\n",
    "        read(file, String)\n",
    "    end\n",
    "    res = parse_countfile(data)\n",
    "catch exception\n",
    "    if isa(exception, SystemError)\n",
    "        res = getlandcoverchange()\n",
    "    end\n",
    "end"
   ]
  },
  {
   "cell_type": "code",
   "execution_count": 52,
   "metadata": {},
   "outputs": [],
   "source": [
    "landcover = [0, 10, 11, 12, 20, 30, 40, 50, 60, 61, 62, 70, \n",
    "    71, 72, 80, 81, 82, 90, 100, 110, 120, 121, 122, 130, \n",
    "    140, 150, 151, 152, 153, 160, 170, 180, 190, 200, 201, 202, \n",
    "    210, 220];"
   ]
  },
  {
   "cell_type": "markdown",
   "metadata": {},
   "source": [
    "For each landcover type we calculated the count. I discovered that there is no pixel with no data with landcover type 0."
   ]
  },
  {
   "cell_type": "code",
   "execution_count": 42,
   "metadata": {},
   "outputs": [],
   "source": [
    "landcovercount = Dict(i => 0 for i in landcover);\n",
    "for lc_type in landcover\n",
    "    for key in keys(res)\n",
    "        if lc_type == key[1]\n",
    "            landcovercount[lc_type] += res[key]\n",
    "        end\n",
    "    end\n",
    "end            "
   ]
  },
  {
   "cell_type": "markdown",
   "metadata": {},
   "source": [
    "A small example how to calculate the probabilities for the conversion of one landcover type. This case: \"Tree cover, broadleaved, deciduous, closed to open (>15%)\""
   ]
  },
  {
   "cell_type": "code",
   "execution_count": 66,
   "metadata": {},
   "outputs": [
    {
     "name": "stdout",
     "output_type": "stream",
     "text": [
      "(50, 122) - 5.6313506881012784e-5\n",
      "(50, 140) - 0.0\n",
      "(50, 100) - 0.0002770327021736787\n",
      "(50, 153) - 1.0874152377259673e-8\n",
      "(50, 40) - 0.0005828533246608467\n",
      "(50, 30) - 0.0011438191554167454\n",
      "(50, 152) - 0.0\n",
      "(50, 121) - 4.544960727599453e-5\n",
      "(50, 70) - 0.0\n",
      "(50, 20) - 7.469299922905708e-6\n",
      "(50, 62) - 1.2427602716868197e-9\n",
      "(50, 61) - 3.293314719970072e-8\n",
      "(50, 220) - 0.0\n",
      "(50, 0) - 0.0\n",
      "(50, 72) - 0.0\n",
      "(50, 82) - 0.0\n",
      "(50, 151) - 0.0\n",
      "(50, 90) - 0.0\n",
      "(50, 130) - 0.00012946237647249898\n",
      "(50, 50) - 0.9965357976647312\n",
      "(50, 71) - 0.0\n",
      "(50, 110) - 2.769895162542376e-5\n",
      "(50, 120) - 0.00026373268174608637\n",
      "(50, 81) - 0.0\n",
      "(50, 170) - 3.203835980408621e-6\n",
      "(50, 12) - 2.386286135679447e-5\n",
      "(50, 210) - 0.00011536761085116293\n",
      "(50, 190) - 9.546573717030228e-6\n",
      "(50, 202) - 0.0\n",
      "(50, 200) - 7.698899883099849e-7\n",
      "(50, 60) - 5.245349347715352e-5\n",
      "(50, 10) - 0.00018096640110208377\n",
      "(50, 150) - 1.2260140770258398e-5\n",
      "(50, 80) - 3.4206976478179715e-7\n",
      "(50, 160) - 0.00014047509662005173\n",
      "(50, 11) - 0.00029692028411141495\n",
      "(50, 180) - 9.415679991414813e-5\n",
      "(50, 201) - 6.213801358434099e-10\n"
     ]
    }
   ],
   "source": [
    "landcover_num = 50\n",
    "for (k, v) in res\n",
    "    if k[1] == landcover_num\n",
    "        println(k, \" - \", v/landcovercount[landcover_num])\n",
    "    end\n",
    "end"
   ]
  },
  {
   "cell_type": "markdown",
   "metadata": {},
   "source": [
    "Now we create the landcover conversion matrix and save it with CSV.jl and DataFrames.jl."
   ]
  },
  {
   "cell_type": "code",
   "execution_count": 84,
   "metadata": {},
   "outputs": [],
   "source": [
    "array = Array{Float64}(undef, length(landcover)-1, length(landcover)-1)\n",
    "for (k, v) in res\n",
    "    if k[1] == 0 || k[2] == 0\n",
    "        continue\n",
    "    end\n",
    "    i = findfirst(isequal(k[1]), landcover) - 1\n",
    "    j = findfirst(isequal(k[2]), landcover) - 1\n",
    "    array[i,j] = v / landcovercount[k[1]]\n",
    "end"
   ]
  },
  {
   "cell_type": "code",
   "execution_count": 92,
   "metadata": {},
   "outputs": [
    {
     "data": {
      "text/plain": [
       "\"landcover_matrix.csv\""
      ]
     },
     "execution_count": 92,
     "metadata": {},
     "output_type": "execute_result"
    }
   ],
   "source": [
    "CSV.write(\"landcover_matrix.csv\", DataFrame(array))"
   ]
  },
  {
   "cell_type": "code",
   "execution_count": null,
   "metadata": {},
   "outputs": [],
   "source": []
  }
 ],
 "metadata": {
  "kernelspec": {
   "display_name": "Julia 1.1.1",
   "language": "julia",
   "name": "julia-1.1"
  },
  "language_info": {
   "file_extension": ".jl",
   "mimetype": "application/julia",
   "name": "julia",
   "version": "1.1.1"
  }
 },
 "nbformat": 4,
 "nbformat_minor": 2
}
